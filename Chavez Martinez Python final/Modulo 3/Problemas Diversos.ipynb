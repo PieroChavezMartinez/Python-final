{
 "cells": [
  {
   "cell_type": "markdown",
   "metadata": {},
   "source": [
    "# PROBLEMAS DIVERSOS"
   ]
  },
  {
   "cell_type": "markdown",
   "metadata": {},
   "source": [
    "Realizar una función que permita la carga de n alumnos. Por cada alumno se deberá preguntar el nombre completo y permitir el ingreso de 3 notas. Las notas deben estar comprendidas entre 0 y 10. Devolver el listado de alumnos.<h3>1.</h3>\n",
    "Realizar una función que permita la carga de n alumnos. Por cada alumno se deberá preguntar el nombre completo y permitir el ingreso de 3 notas. Las notas deben estar comprendidas entre 0 y 10. Devolver el listado de alumnos."
   ]
  },
  {
   "cell_type": "markdown",
   "metadata": {},
   "source": []
  },
  {
   "cell_type": "code",
   "execution_count": null,
   "metadata": {},
   "outputs": [],
   "source": [
    "Alum =[]\n",
    "for i in range(0,alumnos):\n",
    "    print(f\"Ingrese datos del alumno {i+1} \")\n",
    "    Datos={\n",
    "        'Nombre': input('Nombre : '),\n",
    "        'Nota 1': input('Nota 1 : '),\n",
    "        'Nota 2': input('Nota 2 : '),\n",
    "        'Nota 3': input('Nota 3 : ')\n",
    "    }\n",
    "    Alum.append(Datos)\n",
    "print(Alum)"
   ]
  },
  {
   "cell_type": "markdown",
   "metadata": {},
   "source": [
    "### 2.\n",
    "Definir una función que dado un listado de alumnos evalúe cuántos aprobaron y cuántos desaprobaron, teniendo en cuenta que se aprueba con 4. La nota será el promedio de las 3 notas para cada alumno."
   ]
  },
  {
   "cell_type": "code",
   "execution_count": null,
   "metadata": {},
   "outputs": [],
   "source": [
    "import os\n",
    "apro=0\n",
    "desaprobadas=0\n",
    "suma=0\n",
    "sumapro=0\n",
    "for i in range(0,alumnos):\n",
    "    print(\"Ingrese nota del alumno \"+str(i+1)+\": \")\n",
    "    \n",
    "    for n in range(0,3):\n",
    "        notas=int(input(\"Ingrese nota  \" +str(n+1)+\": \" ))\n",
    "        suma=suma +notas\n",
    "        promedio=suma/3\n",
    "    pass\n",
    "    if promedio>=4:\n",
    "        aprobadas+=1\n",
    "    else:\n",
    "        desaprobadas+=1\n",
    "print(\"la suma de notas es: \", suma)\n",
    "print(\"cantidad de aprobados \", aprobadas)\n",
    "print(\"cantidad de desaprobados \", desaprobadas)"
   ]
  },
  {
   "cell_type": "markdown",
   "metadata": {},
   "source": [
    "## 3.\n",
    "Informar el promedio de nota del curso total."
   ]
  },
  {
   "cell_type": "code",
   "execution_count": null,
   "metadata": {},
   "outputs": [],
   "source": [
    "aprobadas=0\n",
    "desaprobadas=0\n",
    "suma=0\n",
    "sumapro=0\n",
    "for i in range(0,v.alumnos):\n",
    "    print(\"Ingrese nota del alumno \"+str(i+1)+\": \")\n",
    "    \n",
    "    for n in range(0,3):\n",
    "        notas=int(input(\"Ingrese nota  \" +str(n+1)+\": \" ))\n",
    "        suma=suma +notas\n",
    "        promedio=suma/3\n",
    "    pass\n",
    "print(\"la suma de notas es: \", suma)\n",
    "print(\"promedio del curso es: \", suma/v.alumnos)"
   ]
  },
  {
   "cell_type": "code",
   "execution_count": null,
   "metadata": {},
   "outputs": [],
   "source": []
  },
  {
   "cell_type": "markdown",
   "metadata": {},
   "source": [
    "### 4.\n",
    "Realizar una función que indique quién tuvo el promedio más alto y quién tuvo la nota promedio más baja."
   ]
  },
  {
   "cell_type": "code",
   "execution_count": null,
   "metadata": {},
   "outputs": [],
   "source": [
    "Promedios=[]\n",
    "for i in range(0,v.alumnos):\n",
    "    print(\"Ingrese nota del alumno \"+str(i+1)+\": \")\n",
    "    sum=0\n",
    "    for n in range(0,3):\n",
    "        notas=int(input(\"Ingrese nota  \" +str(n+1)+\": \" ))\n",
    "        sum=sum+notas  \n",
    "        prom=sum/3\n",
    "    pass\n",
    "    Promedios.append(prom)\n",
    "    \n",
    "print(\"El promedio es: \",Promedios)\n",
    "maximo=max(Promedios)\n",
    "minimo=min(Promedios)\n",
    "if maximo>minimo:\n",
    "    print(\"El promedio Alto es: \", maximo)\n",
    "    print(\"El promedio mas bajo es: \", minimo)"
   ]
  },
  {
   "cell_type": "code",
   "execution_count": null,
   "metadata": {},
   "outputs": [],
   "source": []
  },
  {
   "cell_type": "code",
   "execution_count": null,
   "metadata": {},
   "outputs": [],
   "source": []
  },
  {
   "cell_type": "markdown",
   "metadata": {},
   "source": [
    "### 5.\n",
    "Realizar una función que permita buscar un alumno por nombre, siendo el nombre completo o parcial, y devuelva una lista con los n alumnos que concuerden con ese nombre junto con todos sus datos, incluido el promedio de sus notas."
   ]
  },
  {
   "cell_type": "code",
   "execution_count": 2,
   "metadata": {},
   "outputs": [
    {
     "name": "stdin",
     "output_type": "stream",
     "text": [
      "Ingrese cantidad de alumnos: 12\n"
     ]
    }
   ],
   "source": [
    "while True:\n",
    "    try:\n",
    "        alumnos=int(input(\"Ingrese cantidad de alumnos:\"))\n",
    "        break\n",
    "    except ValueError:\n",
    "        print(\"Error, Ingrese un dato correcto \")"
   ]
  },
  {
   "cell_type": "code",
   "execution_count": null,
   "metadata": {},
   "outputs": [],
   "source": []
  }
 ],
 "metadata": {
  "kernelspec": {
   "display_name": "Python 3",
   "language": "python",
   "name": "python3"
  },
  "language_info": {
   "codemirror_mode": {
    "name": "ipython",
    "version": 3
   },
   "file_extension": ".py",
   "mimetype": "text/x-python",
   "name": "python",
   "nbconvert_exporter": "python",
   "pygments_lexer": "ipython3",
   "version": "3.8.5"
  }
 },
 "nbformat": 4,
 "nbformat_minor": 4
}
